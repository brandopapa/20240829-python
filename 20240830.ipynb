{
  "nbformat": 4,
  "nbformat_minor": 0,
  "metadata": {
    "colab": {
      "provenance": [],
      "authorship_tag": "ABX9TyM0McxmC9URzlOdQwKPGYIe",
      "include_colab_link": true
    },
    "kernelspec": {
      "name": "python3",
      "display_name": "Python 3"
    },
    "language_info": {
      "name": "python"
    }
  },
  "cells": [
    {
      "cell_type": "markdown",
      "metadata": {
        "id": "view-in-github",
        "colab_type": "text"
      },
      "source": [
        "<a href=\"https://colab.research.google.com/github/brandopapa/20240829-python/blob/main/20240830.ipynb\" target=\"_parent\"><img src=\"https://colab.research.google.com/assets/colab-badge.svg\" alt=\"Open In Colab\"/></a>"
      ]
    },
    {
      "cell_type": "code",
      "execution_count": null,
      "metadata": {
        "id": "_zEKSRhl4Y_7"
      },
      "outputs": [],
      "source": []
    },
    {
      "cell_type": "markdown",
      "source": [
        "## 複習基本資料型態及容器型別\n",
        "\n",
        "* int, float, bool, str\n",
        "* list tuple, dict, set"
      ],
      "metadata": {
        "id": "pMFBfBxu4riE"
      }
    },
    {
      "cell_type": "markdown",
      "source": [
        "## 字串的加法及乘法"
      ],
      "metadata": {
        "id": "R1lrBOuK4_3Z"
      }
    },
    {
      "cell_type": "code",
      "source": [
        "'abc' + 'def'"
      ],
      "metadata": {
        "colab": {
          "base_uri": "https://localhost:8080/",
          "height": 35
        },
        "id": "Uyp4YlqM5LDa",
        "outputId": "889b59c4-1131-46b8-9748-9238d5737b69"
      },
      "execution_count": null,
      "outputs": [
        {
          "output_type": "execute_result",
          "data": {
            "text/plain": [
              "'abcdef'"
            ],
            "application/vnd.google.colaboratory.intrinsic+json": {
              "type": "string"
            }
          },
          "metadata": {},
          "execution_count": 1
        }
      ]
    },
    {
      "cell_type": "code",
      "source": [
        "'abc' * 3"
      ],
      "metadata": {
        "colab": {
          "base_uri": "https://localhost:8080/",
          "height": 35
        },
        "id": "Pd69KnO75SY6",
        "outputId": "4d9c8e33-3b43-4c16-ec07-5214e74b1003"
      },
      "execution_count": null,
      "outputs": [
        {
          "output_type": "execute_result",
          "data": {
            "text/plain": [
              "'abcabcabc'"
            ],
            "application/vnd.google.colaboratory.intrinsic+json": {
              "type": "string"
            }
          },
          "metadata": {},
          "execution_count": 2
        }
      ]
    },
    {
      "cell_type": "code",
      "source": [
        "'abc' * 3.0"
      ],
      "metadata": {
        "colab": {
          "base_uri": "https://localhost:8080/",
          "height": 141
        },
        "id": "hsCMzpLC5XmM",
        "outputId": "d15eec9d-4d69-4593-8410-ad56191109c3"
      },
      "execution_count": null,
      "outputs": [
        {
          "output_type": "error",
          "ename": "TypeError",
          "evalue": "can't multiply sequence by non-int of type 'float'",
          "traceback": [
            "\u001b[0;31m---------------------------------------------------------------------------\u001b[0m",
            "\u001b[0;31mTypeError\u001b[0m                                 Traceback (most recent call last)",
            "\u001b[0;32m<ipython-input-3-5ee308f82cac>\u001b[0m in \u001b[0;36m<cell line: 1>\u001b[0;34m()\u001b[0m\n\u001b[0;32m----> 1\u001b[0;31m \u001b[0;34m'abc'\u001b[0m \u001b[0;34m*\u001b[0m \u001b[0;36m3.0\u001b[0m\u001b[0;34m\u001b[0m\u001b[0;34m\u001b[0m\u001b[0m\n\u001b[0m",
            "\u001b[0;31mTypeError\u001b[0m: can't multiply sequence by non-int of type 'float'"
          ]
        }
      ]
    },
    {
      "cell_type": "code",
      "source": [
        "'abc' + 123"
      ],
      "metadata": {
        "colab": {
          "base_uri": "https://localhost:8080/",
          "height": 141
        },
        "id": "_IYeyFFv5bmG",
        "outputId": "5135f3c8-5a6c-4000-ee85-24b5f78dfd3d"
      },
      "execution_count": null,
      "outputs": [
        {
          "output_type": "error",
          "ename": "TypeError",
          "evalue": "can only concatenate str (not \"int\") to str",
          "traceback": [
            "\u001b[0;31m---------------------------------------------------------------------------\u001b[0m",
            "\u001b[0;31mTypeError\u001b[0m                                 Traceback (most recent call last)",
            "\u001b[0;32m<ipython-input-4-09288ff2ed8a>\u001b[0m in \u001b[0;36m<cell line: 1>\u001b[0;34m()\u001b[0m\n\u001b[0;32m----> 1\u001b[0;31m \u001b[0;34m'abc'\u001b[0m \u001b[0;34m+\u001b[0m \u001b[0;36m123\u001b[0m\u001b[0;34m\u001b[0m\u001b[0;34m\u001b[0m\u001b[0m\n\u001b[0m",
            "\u001b[0;31mTypeError\u001b[0m: can only concatenate str (not \"int\") to str"
          ]
        }
      ]
    },
    {
      "cell_type": "code",
      "source": [
        "'adc'+ str(123)"
      ],
      "metadata": {
        "colab": {
          "base_uri": "https://localhost:8080/",
          "height": 35
        },
        "id": "N7hyNmje5hR9",
        "outputId": "f4daa31a-1448-4f73-dd59-c785c3c6a50d"
      },
      "execution_count": null,
      "outputs": [
        {
          "output_type": "execute_result",
          "data": {
            "text/plain": [
              "'adc123'"
            ],
            "application/vnd.google.colaboratory.intrinsic+json": {
              "type": "string"
            }
          },
          "metadata": {},
          "execution_count": 5
        }
      ]
    },
    {
      "cell_type": "markdown",
      "source": [
        "### 綜合練習\n",
        "    *\n",
        "   ***\n",
        "  *****\n",
        " *******\n",
        "*********"
      ],
      "metadata": {
        "id": "tW2xw9Ij6Q3S"
      }
    },
    {
      "cell_type": "code",
      "source": [
        "h = 8\n",
        "for i in range(h):\n",
        "  stars = '*' * (2*i+1)\n",
        "  spaces = ' ' * (h-i)\n",
        "  print(spaces + stars)"
      ],
      "metadata": {
        "colab": {
          "base_uri": "https://localhost:8080/"
        },
        "id": "nwhTsIuo6QmI",
        "outputId": "eb3e2984-de78-43ec-ff97-464cc27b6652"
      },
      "execution_count": null,
      "outputs": [
        {
          "output_type": "stream",
          "name": "stdout",
          "text": [
            "        *\n",
            "       ***\n",
            "      *****\n",
            "     *******\n",
            "    *********\n",
            "   ***********\n",
            "  *************\n",
            " ***************\n"
          ]
        }
      ]
    },
    {
      "cell_type": "code",
      "source": [
        "# prompt: 幫我產生用 '*' 劃出聖誕樹\n",
        "\n",
        "def print_christmas_tree(height):\n",
        "  \"\"\"\n",
        "  印出聖誕樹形狀，使用 '*' 作為樹枝。\n",
        "\n",
        "  Args:\n",
        "    height: 樹的高度。\n",
        "  \"\"\"\n",
        "  for i in range(height):\n",
        "    spaces = \" \" * (height - i)\n",
        "    stars = \"*\" * (2 * i + 1)\n",
        "    print(spaces + stars)\n",
        "\n",
        "# 設定樹的高度\n",
        "tree_height = 5\n",
        "\n",
        "# 印出聖誕樹\n",
        "print_christmas_tree(tree_height)\n"
      ],
      "metadata": {
        "colab": {
          "base_uri": "https://localhost:8080/"
        },
        "id": "8hpOkauv7TVL",
        "outputId": "5f0d2391-8796-4321-e320-4f697bbb03aa"
      },
      "execution_count": null,
      "outputs": [
        {
          "output_type": "stream",
          "name": "stdout",
          "text": [
            "     *\n",
            "    ***\n",
            "   *****\n",
            "  *******\n",
            " *********\n"
          ]
        }
      ]
    },
    {
      "cell_type": "code",
      "source": [
        "print_christmas_tree(8)"
      ],
      "metadata": {
        "colab": {
          "base_uri": "https://localhost:8080/"
        },
        "id": "NXjbsFgL8FUA",
        "outputId": "3cba2864-82e2-417e-8db6-8f94c7b4496a"
      },
      "execution_count": null,
      "outputs": [
        {
          "output_type": "stream",
          "name": "stdout",
          "text": [
            "        *\n",
            "       ***\n",
            "      *****\n",
            "     *******\n",
            "    *********\n",
            "   ***********\n",
            "  *************\n",
            " ***************\n"
          ]
        }
      ]
    },
    {
      "cell_type": "markdown",
      "source": [
        "## def 內放置 pass 可以暫時不完成，也不會出錯"
      ],
      "metadata": {
        "id": "ScSr0fEM8rfb"
      }
    },
    {
      "cell_type": "code",
      "source": [
        "def pyramid(h):\n",
        "  for i in range(h):\n",
        "    stars = '*' * (2*i+1)\n",
        "    spaces = ' ' * (h-i)\n",
        "    print(spaces + stars)"
      ],
      "metadata": {
        "id": "xxEl83268lKA"
      },
      "execution_count": null,
      "outputs": []
    },
    {
      "cell_type": "code",
      "source": [
        "pyramid(10)"
      ],
      "metadata": {
        "colab": {
          "base_uri": "https://localhost:8080/"
        },
        "id": "rTK_I-u89ZM8",
        "outputId": "7ebb04bd-fffd-4e73-ce43-e9b3e365c418"
      },
      "execution_count": null,
      "outputs": [
        {
          "output_type": "stream",
          "name": "stdout",
          "text": [
            "          *\n",
            "         ***\n",
            "        *****\n",
            "       *******\n",
            "      *********\n",
            "     ***********\n",
            "    *************\n",
            "   ***************\n",
            "  *****************\n",
            " *******************\n"
          ]
        }
      ]
    },
    {
      "cell_type": "markdown",
      "source": [
        "## https://zerojudge.tw/ 高中生程式解題系統\n",
        "## 使用簡介\n",
        "* 如何讀取資料? => input()\n",
        "* 如何印出結果? => print()"
      ],
      "metadata": {
        "id": "gbPcv3qQ9rpa"
      }
    },
    {
      "cell_type": "markdown",
      "source": [
        "* 加問號，執行後可以出現說明"
      ],
      "metadata": {
        "id": "gVe2Oilv-G6Z"
      }
    },
    {
      "cell_type": "code",
      "source": [
        "input?\n"
      ],
      "metadata": {
        "id": "1rV9r47Y-B5Z"
      },
      "execution_count": null,
      "outputs": []
    },
    {
      "cell_type": "code",
      "source": [
        "x = input('請輸入一個整數:')"
      ],
      "metadata": {
        "colab": {
          "base_uri": "https://localhost:8080/"
        },
        "id": "VztaOUtp-Oik",
        "outputId": "cde4bea7-6164-46aa-f4fd-53d971e46bcb"
      },
      "execution_count": null,
      "outputs": [
        {
          "name": "stdout",
          "output_type": "stream",
          "text": [
            "請輸入一個整數:10\n"
          ]
        }
      ]
    },
    {
      "cell_type": "code",
      "source": [
        "type(x)"
      ],
      "metadata": {
        "colab": {
          "base_uri": "https://localhost:8080/"
        },
        "id": "WoYa7eTW-W-o",
        "outputId": "c086dddc-1828-426f-9d0e-a9cf17eaa9bc"
      },
      "execution_count": null,
      "outputs": [
        {
          "output_type": "execute_result",
          "data": {
            "text/plain": [
              "str"
            ]
          },
          "metadata": {},
          "execution_count": 27
        }
      ]
    },
    {
      "cell_type": "code",
      "source": [
        "int(x)+1\n"
      ],
      "metadata": {
        "colab": {
          "base_uri": "https://localhost:8080/"
        },
        "id": "OjRpiRaO--fR",
        "outputId": "bc9108cb-5eda-4979-e45b-0018903897ea"
      },
      "execution_count": null,
      "outputs": [
        {
          "output_type": "execute_result",
          "data": {
            "text/plain": [
              "11"
            ]
          },
          "metadata": {},
          "execution_count": 30
        }
      ]
    },
    {
      "cell_type": "code",
      "source": [
        "x+1"
      ],
      "metadata": {
        "colab": {
          "base_uri": "https://localhost:8080/",
          "height": 141
        },
        "id": "q30LNwYD_FO8",
        "outputId": "99afe870-6269-46cb-ebb6-be2eeff96aa2"
      },
      "execution_count": null,
      "outputs": [
        {
          "output_type": "error",
          "ename": "TypeError",
          "evalue": "can only concatenate str (not \"int\") to str",
          "traceback": [
            "\u001b[0;31m---------------------------------------------------------------------------\u001b[0m",
            "\u001b[0;31mTypeError\u001b[0m                                 Traceback (most recent call last)",
            "\u001b[0;32m<ipython-input-31-da2b8556d113>\u001b[0m in \u001b[0;36m<cell line: 1>\u001b[0;34m()\u001b[0m\n\u001b[0;32m----> 1\u001b[0;31m \u001b[0mx\u001b[0m\u001b[0;34m+\u001b[0m\u001b[0;36m1\u001b[0m\u001b[0;34m\u001b[0m\u001b[0;34m\u001b[0m\u001b[0m\n\u001b[0m",
            "\u001b[0;31mTypeError\u001b[0m: can only concatenate str (not \"int\") to str"
          ]
        }
      ]
    },
    {
      "cell_type": "code",
      "source": [
        "print?"
      ],
      "metadata": {
        "id": "6BGauHMM_MEe"
      },
      "execution_count": null,
      "outputs": []
    },
    {
      "cell_type": "code",
      "source": [
        "print(1,2,3,4,5)"
      ],
      "metadata": {
        "colab": {
          "base_uri": "https://localhost:8080/"
        },
        "id": "PRKipZUD_O8t",
        "outputId": "37ddd1fa-513e-4550-812d-0f09338f95d5"
      },
      "execution_count": null,
      "outputs": [
        {
          "output_type": "stream",
          "name": "stdout",
          "text": [
            "1 2 3 4 5\n"
          ]
        }
      ]
    },
    {
      "cell_type": "markdown",
      "source": [
        "* print 裡的逗號印出來是空格"
      ],
      "metadata": {
        "id": "BGhSuoT-_YIi"
      }
    },
    {
      "cell_type": "code",
      "source": [
        "print(1,2,3,4,5, sep='-')"
      ],
      "metadata": {
        "colab": {
          "base_uri": "https://localhost:8080/"
        },
        "id": "17k3qqYf_gw8",
        "outputId": "e20bf1b6-2f53-49b0-ed64-7e7072f52296"
      },
      "execution_count": null,
      "outputs": [
        {
          "output_type": "stream",
          "name": "stdout",
          "text": [
            "1-2-3-4-5\n"
          ]
        }
      ]
    },
    {
      "cell_type": "code",
      "source": [
        "print(1,2,3,4,5, sep='')"
      ],
      "metadata": {
        "colab": {
          "base_uri": "https://localhost:8080/"
        },
        "id": "D0ihhHpP_m7f",
        "outputId": "529d422e-1c0e-444d-9b57-9041542c8905"
      },
      "execution_count": null,
      "outputs": [
        {
          "output_type": "stream",
          "name": "stdout",
          "text": [
            "12345\n"
          ]
        }
      ]
    },
    {
      "cell_type": "code",
      "source": [
        "print(1,2,3,4,5, sep='\\n')"
      ],
      "metadata": {
        "colab": {
          "base_uri": "https://localhost:8080/"
        },
        "id": "e7a4aIS9_tzn",
        "outputId": "89e17638-ffdf-4c59-82cb-b18b59b5ba1a"
      },
      "execution_count": null,
      "outputs": [
        {
          "output_type": "stream",
          "name": "stdout",
          "text": [
            "1\n",
            "2\n",
            "3\n",
            "4\n",
            "5\n"
          ]
        }
      ]
    },
    {
      "cell_type": "code",
      "source": [
        "print(1,2,3)\n",
        "print(4,5,6)"
      ],
      "metadata": {
        "colab": {
          "base_uri": "https://localhost:8080/"
        },
        "id": "U-MAaB3c_7Tt",
        "outputId": "2a6a0143-8dca-473a-f651-1df5f1f84a9f"
      },
      "execution_count": null,
      "outputs": [
        {
          "output_type": "stream",
          "name": "stdout",
          "text": [
            "1 2 3\n",
            "4 5 6\n"
          ]
        }
      ]
    },
    {
      "cell_type": "code",
      "source": [
        "print(1,2,3, end=\"+++\")\n",
        "print(4,5,6)"
      ],
      "metadata": {
        "colab": {
          "base_uri": "https://localhost:8080/"
        },
        "id": "Q5hxckgbACZ3",
        "outputId": "ce19030c-dc82-40c2-8f1d-74132fe41c21"
      },
      "execution_count": null,
      "outputs": [
        {
          "output_type": "stream",
          "name": "stdout",
          "text": [
            "1 2 3+++4 5 6\n"
          ]
        }
      ]
    },
    {
      "cell_type": "markdown",
      "source": [
        "### 字串的格式化\n",
        "\n",
        "* python2\n",
        "* python3\n",
        "* f-string"
      ],
      "metadata": {
        "id": "Dja0aqAjAI4a"
      }
    },
    {
      "cell_type": "code",
      "source": [
        "# python2\n",
        "m = 1\n",
        "n = 3.14159\n",
        "print('m=%d, n=%f'%(m,n))"
      ],
      "metadata": {
        "colab": {
          "base_uri": "https://localhost:8080/"
        },
        "id": "V7DN-5T7ATUV",
        "outputId": "ec29e18f-b1db-412d-da6e-3afdd9b933d8"
      },
      "execution_count": null,
      "outputs": [
        {
          "output_type": "stream",
          "name": "stdout",
          "text": [
            "m=1, n=3.141590\n"
          ]
        }
      ]
    },
    {
      "cell_type": "code",
      "source": [
        "# python3\n",
        "print('m={}, n={}'.format(m,n))"
      ],
      "metadata": {
        "colab": {
          "base_uri": "https://localhost:8080/"
        },
        "id": "W2NKrJqnAbum",
        "outputId": "82d8df52-006c-482f-dc9c-2f8141aeb1c4"
      },
      "execution_count": null,
      "outputs": [
        {
          "output_type": "stream",
          "name": "stdout",
          "text": [
            "m=1, n=3.14159\n"
          ]
        }
      ]
    },
    {
      "cell_type": "code",
      "source": [
        "# f-string (after python3.5)\n",
        "print(f'm={m}, n={n}')"
      ],
      "metadata": {
        "colab": {
          "base_uri": "https://localhost:8080/"
        },
        "id": "daOWjeyxA5MG",
        "outputId": "db00a1b4-0f87-4de1-cd08-0436da027b9c"
      },
      "execution_count": null,
      "outputs": [
        {
          "output_type": "stream",
          "name": "stdout",
          "text": [
            "m=1, n=3.14159\n"
          ]
        }
      ]
    },
    {
      "cell_type": "markdown",
      "source": [
        "## Python的基礎語法\n",
        "* 條件式 if statment\n",
        "* 迴圈 loops\n",
        "* 函式 functions\n",
        "* 例外處理 exception handling"
      ],
      "metadata": {
        "id": "xIOZKwl-EHPk"
      }
    },
    {
      "cell_type": "markdown",
      "source": [
        "### 條件式"
      ],
      "metadata": {
        "id": "VUChKSBXFc8z"
      }
    },
    {
      "cell_type": "code",
      "source": [
        "m=3\n",
        "n=2"
      ],
      "metadata": {
        "id": "YpKDDJniEX1t"
      },
      "execution_count": null,
      "outputs": []
    },
    {
      "cell_type": "code",
      "source": [
        "if m > n:\n",
        "  print('m is greater than n')"
      ],
      "metadata": {
        "colab": {
          "base_uri": "https://localhost:8080/"
        },
        "id": "-1VjDCQ6EeSQ",
        "outputId": "483ad974-f32e-4c4d-dbed-1f0b0356d04f"
      },
      "execution_count": null,
      "outputs": [
        {
          "output_type": "stream",
          "name": "stdout",
          "text": [
            "m is greater than n\n"
          ]
        }
      ]
    },
    {
      "cell_type": "code",
      "source": [
        "if m > n:\n",
        "  print('m is greater than n')\n",
        "else:\n",
        "  print('m is less than or equal to n')"
      ],
      "metadata": {
        "colab": {
          "base_uri": "https://localhost:8080/"
        },
        "id": "DH2_MRIXEl41",
        "outputId": "29916f13-fd32-4022-e7fe-896502b66fbc"
      },
      "execution_count": null,
      "outputs": [
        {
          "output_type": "stream",
          "name": "stdout",
          "text": [
            "m is greater than n\n"
          ]
        }
      ]
    },
    {
      "cell_type": "code",
      "source": [
        "if m > n:\n",
        "  print('m>n')\n",
        "elif m < n:\n",
        "  print('m<n')\n",
        "else:\n",
        "  print('m==n')"
      ],
      "metadata": {
        "colab": {
          "base_uri": "https://localhost:8080/"
        },
        "id": "nC5SnSe3Er_H",
        "outputId": "3dd022bd-b33a-4d20-d483-dc90ab8e25cb"
      },
      "execution_count": null,
      "outputs": [
        {
          "output_type": "stream",
          "name": "stdout",
          "text": [
            "m>n\n"
          ]
        }
      ]
    },
    {
      "cell_type": "markdown",
      "source": [
        "### 迴圈(loops)\n",
        "* for\n",
        "* while"
      ],
      "metadata": {
        "id": "G-XFq4VnFfRM"
      }
    },
    {
      "cell_type": "code",
      "source": [
        "for i in range(3):\n",
        "  print(i)\n"
      ],
      "metadata": {
        "colab": {
          "base_uri": "https://localhost:8080/"
        },
        "id": "FLaoV1yyFfD8",
        "outputId": "d74c021a-0194-4399-9d96-f7287760cde4"
      },
      "execution_count": null,
      "outputs": [
        {
          "output_type": "stream",
          "name": "stdout",
          "text": [
            "0\n",
            "1\n",
            "2\n"
          ]
        }
      ]
    },
    {
      "cell_type": "code",
      "source": [
        "for i in range(3):\n",
        "  print('程式區塊開始')\n",
        "  print(i)\n",
        "print('程式區塊結束')"
      ],
      "metadata": {
        "colab": {
          "base_uri": "https://localhost:8080/"
        },
        "id": "RIzKNBWQF9Tk",
        "outputId": "89336747-9148-440e-f8b7-ca5a5ce00b44"
      },
      "execution_count": null,
      "outputs": [
        {
          "output_type": "stream",
          "name": "stdout",
          "text": [
            "程式區塊開始\n",
            "0\n",
            "程式區塊開始\n",
            "1\n",
            "程式區塊開始\n",
            "2\n",
            "程式區塊結束\n"
          ]
        }
      ]
    },
    {
      "cell_type": "code",
      "source": [
        "x = ['aaa', 'bbb', 'ccc']"
      ],
      "metadata": {
        "id": "dq8Ljsu5GR7u"
      },
      "execution_count": null,
      "outputs": []
    },
    {
      "cell_type": "code",
      "source": [
        "for i in x:\n",
        "  print(i)"
      ],
      "metadata": {
        "colab": {
          "base_uri": "https://localhost:8080/"
        },
        "id": "ZrddoBwoGqhM",
        "outputId": "d0008b80-6a0e-4d52-d536-b0ccfb0e5c63"
      },
      "execution_count": null,
      "outputs": [
        {
          "output_type": "stream",
          "name": "stdout",
          "text": [
            "aaa\n",
            "bbb\n",
            "ccc\n"
          ]
        }
      ]
    },
    {
      "cell_type": "code",
      "source": [
        "d = {}\n",
        "d['a'] = 1\n",
        "d['b'] = 2\n",
        "d['c'] = 3"
      ],
      "metadata": {
        "id": "qGJLWEIuG4dz"
      },
      "execution_count": null,
      "outputs": []
    },
    {
      "cell_type": "code",
      "source": [
        "d"
      ],
      "metadata": {
        "colab": {
          "base_uri": "https://localhost:8080/"
        },
        "id": "RoE5yB3uG8jM",
        "outputId": "ae762841-09d1-4665-d90f-f5740bd2caa3"
      },
      "execution_count": null,
      "outputs": [
        {
          "output_type": "execute_result",
          "data": {
            "text/plain": [
              "{'a': 1, 'b': 2, 'c': 3}"
            ]
          },
          "metadata": {},
          "execution_count": 56
        }
      ]
    },
    {
      "cell_type": "code",
      "source": [
        "for i in d:\n",
        "  print(i)"
      ],
      "metadata": {
        "colab": {
          "base_uri": "https://localhost:8080/"
        },
        "id": "Sk7K86jWG-Te",
        "outputId": "acc67449-8e3a-4037-b38a-d5b165d9e70f"
      },
      "execution_count": null,
      "outputs": [
        {
          "output_type": "stream",
          "name": "stdout",
          "text": [
            "a\n",
            "b\n",
            "c\n"
          ]
        }
      ]
    },
    {
      "cell_type": "code",
      "source": [
        "for i in d:\n",
        "  print(i + ' => ' + str(d[i]) )"
      ],
      "metadata": {
        "colab": {
          "base_uri": "https://localhost:8080/"
        },
        "id": "eT-1L5i3HRz-",
        "outputId": "c98bd217-c05a-4686-aa1f-17569fd8dbfe"
      },
      "execution_count": null,
      "outputs": [
        {
          "output_type": "stream",
          "name": "stdout",
          "text": [
            "a => 1\n",
            "b => 2\n",
            "c => 3\n"
          ]
        }
      ]
    },
    {
      "cell_type": "code",
      "source": [
        "for i in d.values():\n",
        "  print(i)"
      ],
      "metadata": {
        "colab": {
          "base_uri": "https://localhost:8080/"
        },
        "id": "ltDSlJ5uHGBS",
        "outputId": "6d7a337b-b1b6-42f4-b71c-47a937586cce"
      },
      "execution_count": null,
      "outputs": [
        {
          "output_type": "stream",
          "name": "stdout",
          "text": [
            "1\n",
            "2\n",
            "3\n"
          ]
        }
      ]
    },
    {
      "cell_type": "code",
      "source": [
        "# prompt: 幫我產生一個 list 裡面是彩虹的顏色的英文單字\n",
        "\n",
        "rainbow_colors = [\"red\", \"orange\", \"yellow\", \"green\", \"blue\", \"indigo\", \"violet\"]\n"
      ],
      "metadata": {
        "id": "VwAYocZwImcl"
      },
      "execution_count": null,
      "outputs": []
    },
    {
      "cell_type": "markdown",
      "source": [
        "### 關於字串的引號(' vs \")"
      ],
      "metadata": {
        "id": "YRGpNs4rI3KV"
      }
    },
    {
      "cell_type": "markdown",
      "source": [
        "### while loop"
      ],
      "metadata": {
        "id": "QxYGT6aCJidx"
      }
    },
    {
      "cell_type": "code",
      "source": [
        "for i in range(5):\n",
        "  print(i)"
      ],
      "metadata": {
        "colab": {
          "base_uri": "https://localhost:8080/"
        },
        "id": "Ft35PutsJmVC",
        "outputId": "ba373039-053f-438b-bd41-638c368e3fe9"
      },
      "execution_count": 71,
      "outputs": [
        {
          "output_type": "stream",
          "name": "stdout",
          "text": [
            "0\n",
            "1\n",
            "2\n",
            "3\n",
            "4\n"
          ]
        }
      ]
    },
    {
      "cell_type": "code",
      "source": [
        "i=0\n",
        "while i < 5:\n",
        "  print(i)\n",
        "  i += 1   # i = i + 1"
      ],
      "metadata": {
        "colab": {
          "base_uri": "https://localhost:8080/"
        },
        "id": "oxNY-OUmJp2z",
        "outputId": "599a6d4e-0625-47e2-b2f8-09dd32284a1a"
      },
      "execution_count": 74,
      "outputs": [
        {
          "output_type": "stream",
          "name": "stdout",
          "text": [
            "0\n",
            "1\n",
            "2\n",
            "3\n",
            "4\n"
          ]
        }
      ]
    },
    {
      "cell_type": "code",
      "source": [
        "while True:\n",
        "  print('hello')\n",
        "  break"
      ],
      "metadata": {
        "colab": {
          "base_uri": "https://localhost:8080/"
        },
        "id": "1-wfqQUEJ9S0",
        "outputId": "81e38603-a34e-4284-c853-324c2d801df8"
      },
      "execution_count": 75,
      "outputs": [
        {
          "output_type": "stream",
          "name": "stdout",
          "text": [
            "hello\n"
          ]
        }
      ]
    },
    {
      "cell_type": "code",
      "source": [
        "i = 0\n",
        "while i < 10:\n",
        "  i += 1\n",
        "  if i % 2 == 0:\n",
        "    continue\n",
        "  print(i)"
      ],
      "metadata": {
        "colab": {
          "base_uri": "https://localhost:8080/"
        },
        "id": "njX-tcAZKDTX",
        "outputId": "83d43799-e47f-4497-d88c-546a23be536b"
      },
      "execution_count": 76,
      "outputs": [
        {
          "output_type": "stream",
          "name": "stdout",
          "text": [
            "1\n",
            "3\n",
            "5\n",
            "7\n",
            "9\n"
          ]
        }
      ]
    },
    {
      "cell_type": "code",
      "source": [
        "for i in range(10):\n",
        "  if i % 2 == 0:\n",
        "    continue\n",
        "  print(i)"
      ],
      "metadata": {
        "colab": {
          "base_uri": "https://localhost:8080/"
        },
        "id": "_f1_GAyuLHgY",
        "outputId": "162e84f9-a13d-42df-877c-a7d756828ffe"
      },
      "execution_count": 77,
      "outputs": [
        {
          "output_type": "stream",
          "name": "stdout",
          "text": [
            "1\n",
            "3\n",
            "5\n",
            "7\n",
            "9\n"
          ]
        }
      ]
    },
    {
      "cell_type": "markdown",
      "source": [
        "### 函式"
      ],
      "metadata": {
        "id": "Bm6P8ZG7LX8o"
      }
    },
    {
      "cell_type": "code",
      "source": [
        "def square01(x):\n",
        "  print (x**2)"
      ],
      "metadata": {
        "id": "srM4hYiULiYe"
      },
      "execution_count": 83,
      "outputs": []
    },
    {
      "cell_type": "code",
      "source": [
        "def square02(x):\n",
        "  return x**2"
      ],
      "metadata": {
        "id": "UEfC7Lf9Lava"
      },
      "execution_count": 79,
      "outputs": []
    },
    {
      "cell_type": "code",
      "source": [
        "square01(2)"
      ],
      "metadata": {
        "colab": {
          "base_uri": "https://localhost:8080/"
        },
        "id": "_mj2XUj4Lqfa",
        "outputId": "1dbd9ddc-c3e5-43d7-a9e0-2bd84e54e874"
      },
      "execution_count": 84,
      "outputs": [
        {
          "output_type": "stream",
          "name": "stdout",
          "text": [
            "4\n"
          ]
        }
      ]
    },
    {
      "cell_type": "code",
      "source": [
        "square02(2)"
      ],
      "metadata": {
        "colab": {
          "base_uri": "https://localhost:8080/"
        },
        "id": "6rSpA-H0Lv50",
        "outputId": "04e9f5ef-8bc4-4454-d5b4-dd3fd3fdc1d7"
      },
      "execution_count": 85,
      "outputs": [
        {
          "output_type": "execute_result",
          "data": {
            "text/plain": [
              "4"
            ]
          },
          "metadata": {},
          "execution_count": 85
        }
      ]
    },
    {
      "cell_type": "code",
      "source": [
        "x1 = square01(2)"
      ],
      "metadata": {
        "colab": {
          "base_uri": "https://localhost:8080/"
        },
        "id": "15CLhvzhL75B",
        "outputId": "f6f20752-aa6c-4285-d2a3-9d051873d848"
      },
      "execution_count": 86,
      "outputs": [
        {
          "output_type": "stream",
          "name": "stdout",
          "text": [
            "4\n"
          ]
        }
      ]
    },
    {
      "cell_type": "code",
      "source": [
        "x2 = square02(2)"
      ],
      "metadata": {
        "id": "oRlfPQQVL_Tb"
      },
      "execution_count": 87,
      "outputs": []
    },
    {
      "cell_type": "code",
      "source": [
        "print(x1)"
      ],
      "metadata": {
        "colab": {
          "base_uri": "https://localhost:8080/"
        },
        "id": "tYNPUn5VMAg0",
        "outputId": "8a2cd6ab-0344-4c84-c2a9-1b7774e2fc11"
      },
      "execution_count": 88,
      "outputs": [
        {
          "output_type": "stream",
          "name": "stdout",
          "text": [
            "None\n"
          ]
        }
      ]
    },
    {
      "cell_type": "code",
      "source": [
        "print(x2)"
      ],
      "metadata": {
        "colab": {
          "base_uri": "https://localhost:8080/"
        },
        "id": "oA0Ixl62MESe",
        "outputId": "5e25ae93-0c55-4e0b-c49f-6cd7f10a93f6"
      },
      "execution_count": 89,
      "outputs": [
        {
          "output_type": "stream",
          "name": "stdout",
          "text": [
            "4\n"
          ]
        }
      ]
    },
    {
      "cell_type": "markdown",
      "source": [
        "### 例外處理 (Eeception Handling)\n",
        "```python\n",
        "try:\n",
        "  程式區塊01\n",
        "except Exception as e:\n",
        "  程式區塊02\n",
        "```"
      ],
      "metadata": {
        "id": "lFmbMBuCMKFx"
      }
    },
    {
      "cell_type": "code",
      "source": [
        "def add(a,b):\n",
        "  print(f\"{a}+{b} = {a+b}\")\n",
        "\n",
        "def sub(a,b):\n",
        "  print(f\"{a}-{b} = {a-b}\")\n",
        "\n",
        "def mul(a,b):\n",
        "  print(f\"{a}*{b} = {a*b}\")\n",
        "\n",
        "def div(a,b):\n",
        "  print(f\"{a}/{b} = {a/b}\")\n"
      ],
      "metadata": {
        "id": "Aeig8j89MQXL"
      },
      "execution_count": 91,
      "outputs": []
    },
    {
      "cell_type": "code",
      "source": [
        "add(1,2)\n",
        "sub(1,2)\n",
        "mul(1,2)\n",
        "div(1,2)"
      ],
      "metadata": {
        "colab": {
          "base_uri": "https://localhost:8080/"
        },
        "id": "RwXaI5qQNDuG",
        "outputId": "9365bf1c-3565-4b0c-98f5-1b007f8fb89c"
      },
      "execution_count": 92,
      "outputs": [
        {
          "output_type": "stream",
          "name": "stdout",
          "text": [
            "1+2 = 3\n",
            "1-2 = -1\n",
            "1*2 = 2\n",
            "1/2 = 0.5\n"
          ]
        }
      ]
    },
    {
      "cell_type": "code",
      "source": [
        "fns = [add, sub, mul, div]\n"
      ],
      "metadata": {
        "id": "bBAsFzAaNYNh"
      },
      "execution_count": 93,
      "outputs": []
    },
    {
      "cell_type": "code",
      "source": [
        "for i in fns:\n",
        "  i(4,2)"
      ],
      "metadata": {
        "colab": {
          "base_uri": "https://localhost:8080/"
        },
        "id": "pkprei1PNhFU",
        "outputId": "1c9c5250-42b2-4389-921c-eb22c3143a7e"
      },
      "execution_count": 95,
      "outputs": [
        {
          "output_type": "stream",
          "name": "stdout",
          "text": [
            "4+2 = 6\n",
            "4-2 = 2\n",
            "4*2 = 8\n",
            "4/2 = 2.0\n"
          ]
        }
      ]
    },
    {
      "cell_type": "code",
      "source": [
        "for i in fns:\n",
        "  i(4,0)"
      ],
      "metadata": {
        "colab": {
          "base_uri": "https://localhost:8080/",
          "height": 297
        },
        "id": "qImWbj3WN-lz",
        "outputId": "727e9d93-d58c-4dd9-818f-027f7df8184f"
      },
      "execution_count": 96,
      "outputs": [
        {
          "output_type": "stream",
          "name": "stdout",
          "text": [
            "4+0 = 4\n",
            "4-0 = 4\n",
            "4*0 = 0\n"
          ]
        },
        {
          "output_type": "error",
          "ename": "ZeroDivisionError",
          "evalue": "division by zero",
          "traceback": [
            "\u001b[0;31m---------------------------------------------------------------------------\u001b[0m",
            "\u001b[0;31mZeroDivisionError\u001b[0m                         Traceback (most recent call last)",
            "\u001b[0;32m<ipython-input-96-a4fd755726bd>\u001b[0m in \u001b[0;36m<cell line: 1>\u001b[0;34m()\u001b[0m\n\u001b[1;32m      1\u001b[0m \u001b[0;32mfor\u001b[0m \u001b[0mi\u001b[0m \u001b[0;32min\u001b[0m \u001b[0mfns\u001b[0m\u001b[0;34m:\u001b[0m\u001b[0;34m\u001b[0m\u001b[0;34m\u001b[0m\u001b[0m\n\u001b[0;32m----> 2\u001b[0;31m   \u001b[0mi\u001b[0m\u001b[0;34m(\u001b[0m\u001b[0;36m4\u001b[0m\u001b[0;34m,\u001b[0m\u001b[0;36m0\u001b[0m\u001b[0;34m)\u001b[0m\u001b[0;34m\u001b[0m\u001b[0;34m\u001b[0m\u001b[0m\n\u001b[0m",
            "\u001b[0;32m<ipython-input-91-bee17ee617ae>\u001b[0m in \u001b[0;36mdiv\u001b[0;34m(a, b)\u001b[0m\n\u001b[1;32m      9\u001b[0m \u001b[0;34m\u001b[0m\u001b[0m\n\u001b[1;32m     10\u001b[0m \u001b[0;32mdef\u001b[0m \u001b[0mdiv\u001b[0m\u001b[0;34m(\u001b[0m\u001b[0ma\u001b[0m\u001b[0;34m,\u001b[0m\u001b[0mb\u001b[0m\u001b[0;34m)\u001b[0m\u001b[0;34m:\u001b[0m\u001b[0;34m\u001b[0m\u001b[0;34m\u001b[0m\u001b[0m\n\u001b[0;32m---> 11\u001b[0;31m   \u001b[0mprint\u001b[0m\u001b[0;34m(\u001b[0m\u001b[0;34mf\"{a}/{b} = {a/b}\"\u001b[0m\u001b[0;34m)\u001b[0m\u001b[0;34m\u001b[0m\u001b[0;34m\u001b[0m\u001b[0m\n\u001b[0m",
            "\u001b[0;31mZeroDivisionError\u001b[0m: division by zero"
          ]
        }
      ]
    },
    {
      "cell_type": "code",
      "source": [
        "def div(a,b):\n",
        "  try:\n",
        "    print(f\"{a}/{b} = {a/b}\")\n",
        "  except ZeroDivisionError:\n",
        "    print('分母不能為0')\n"
      ],
      "metadata": {
        "id": "NYpstGQxPRxr"
      },
      "execution_count": 99,
      "outputs": []
    },
    {
      "cell_type": "code",
      "source": [
        "div(4,0)"
      ],
      "metadata": {
        "colab": {
          "base_uri": "https://localhost:8080/"
        },
        "id": "3bGSJySXPXat",
        "outputId": "fa0d4350-549b-4b93-ffbd-e6dd224387a3"
      },
      "execution_count": 101,
      "outputs": [
        {
          "output_type": "stream",
          "name": "stdout",
          "text": [
            "分母不能為0\n"
          ]
        }
      ]
    }
  ]
}